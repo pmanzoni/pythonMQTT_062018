{
  "nbformat": 4,
  "nbformat_minor": 0,
  "metadata": {
    "colab": {
      "name": "Copia di PM learning_micropython_intro.ipynb",
      "version": "0.3.2",
      "views": {},
      "default_view": {},
      "provenance": [
        {
          "file_id": "1QBac3BVVOklIkd5x2gRmTPi6Da5o3QwZ",
          "timestamp": 1526412837137
        }
      ],
      "collapsed_sections": [],
      "toc_visible": true
    },
    "kernelspec": {
      "name": "python3",
      "display_name": "Python 3"
    }
  },
  "cells": [
    {
      "metadata": {
        "id": "fn45ITAA3drj",
        "colab_type": "text"
      },
      "cell_type": "markdown",
      "source": [
        "# A Byte of Python for the IoT\n",
        "This text and these exercises are excerpted from the excellent tutorial \"A Byte of Python\" by C H Swaroop. [Find out more](https://www.gitbook.com/book/swaroopch/byte-of-python/details) about the book, or [read it online](https://python.swaroopch.com/). Additional explanation of keywords and literals comes from a [blog post](http://python-history.blogspot.co.nz/2013/11/story-of-none-true-false.html) by Guido van Rossum.\n",
        "The goal of thid document is to help users without experience in Python to do useful things with their micro-python based IoT device."
      ]
    },
    {
      "metadata": {
        "id": "nrxpDHVvyzar",
        "colab_type": "text"
      },
      "cell_type": "markdown",
      "source": [
        "# Printing\n",
        "To get started, we're going to print \"hello world\". In the box below, you should type the statement \"**hello world**\" inside the single quotes, then press the play button.\n"
      ]
    },
    {
      "metadata": {
        "id": "yJ2HMseFy33n",
        "colab_type": "code",
        "colab": {
          "autoexec": {
            "startup": false,
            "wait_interval": 0
          },
          "base_uri": "https://localhost:8080/",
          "height": 34
        },
        "outputId": "a7520861-a76e-489f-e14a-7dbd7f4df6a2",
        "executionInfo": {
          "status": "ok",
          "timestamp": 1527091724041,
          "user_tz": -120,
          "elapsed": 14460,
          "user": {
            "displayName": "Marco Zennaro",
            "photoUrl": "//lh4.googleusercontent.com/-zKlPYgDkTho/AAAAAAAAAAI/AAAAAAAACHA/zVFyndtjt9Y/s50-c-k-no/photo.jpg",
            "userId": "104025061380180794646"
          }
        }
      },
      "cell_type": "code",
      "source": [
        "print('this is a string ciao')"
      ],
      "execution_count": 1,
      "outputs": [
        {
          "output_type": "stream",
          "text": [
            "this is a string\n"
          ],
          "name": "stdout"
        }
      ]
    },
    {
      "metadata": {
        "id": "B0HODszsgBBv",
        "colab_type": "text"
      },
      "cell_type": "markdown",
      "source": [
        "See what we did there! That's all it takes to print a statmenet in Python."
      ]
    },
    {
      "metadata": {
        "id": "5mjl1wRlZLvJ",
        "colab_type": "text"
      },
      "cell_type": "markdown",
      "source": [
        "# Language Basics\n"
      ]
    },
    {
      "metadata": {
        "id": "oqqrTzTxthlz",
        "colab_type": "text"
      },
      "cell_type": "markdown",
      "source": [
        "## Comments\n",
        "Before we go too far, it's important we learn about comments. Comments are lines that tell us about our code, but don't get executed. You can use them to:\n",
        "\n",
        "* explain assumptions\n",
        "* explain important decisions\n",
        "* explain important details\n",
        "* explain problems you're trying to solve\n",
        "* explain problems you're trying to overcome in your program, etc.\n",
        "\n",
        "Read the code block below and see what happens when you run it!\n",
        "Now remove the comments from both lines that have **print** commands in them and run the code again."
      ]
    },
    {
      "metadata": {
        "id": "8V1lFP40ZYbM",
        "colab_type": "code",
        "colab": {
          "autoexec": {
            "startup": false,
            "wait_interval": 0
          },
          "base_uri": "https://localhost:8080/",
          "height": 51
        },
        "outputId": "417a6ac6-e4b4-4927-b51a-608fd65eff45",
        "executionInfo": {
          "status": "ok",
          "timestamp": 1526413620444,
          "user_tz": -120,
          "elapsed": 594,
          "user": {
            "displayName": "Pietro M.",
            "photoUrl": "//lh3.googleusercontent.com/-xvb0GuaYitM/AAAAAAAAAAI/AAAAAAAAAAA/1u64RrjWgXQ/s50-c-k-no/photo.jpg",
            "userId": "111789482584670799205"
          }
        }
      },
      "cell_type": "code",
      "source": [
        "# Comment number one - here's where we start\n",
        "print ('How many lines are we going to print?')\n",
        "# Comment number two - notice the slash below?\n",
        "# That's what we do to print a special charachter like a '\n",
        "print (\"I'm changing what's in the statement\")\n",
        "# Comment number three - see above that comments can be multi-line"
      ],
      "execution_count": 3,
      "outputs": [
        {
          "output_type": "stream",
          "text": [
            "How many lines are we going to print?\n",
            "I'm changing what's in the statement\n"
          ],
          "name": "stdout"
        }
      ]
    },
    {
      "metadata": {
        "id": "akFOs3Z5kSxF",
        "colab_type": "text"
      },
      "cell_type": "markdown",
      "source": [
        "## Keywords\n",
        "\n",
        "What's a keyword? It's a word that's part of the programming language. You can only use it to write code. Some of the keywords you will see are:\n",
        "* and\n",
        "* if\n",
        "* for\n",
        "* or\n",
        "* while"
      ]
    },
    {
      "metadata": {
        "id": "lr3soBAemJVQ",
        "colab_type": "text"
      },
      "cell_type": "markdown",
      "source": [
        "## Literal Constants (Literals)\n",
        "Literal constants are values that can never change. Numbers and strings are literal constants - they always mean the same thing. For example:\n",
        "* 5 will always equal 5\n",
        "* 1.23 will always equal 1.23\n",
        "* \"This Statement\" will always equal \"This Statement\"\n",
        "\n",
        "It's not possible to make a number like 5 equal something else - you can't use a literal as a variable."
      ]
    },
    {
      "metadata": {
        "id": "GPREZuAAmxHe",
        "colab_type": "text"
      },
      "cell_type": "markdown",
      "source": [
        "## Numbers\n",
        "We'll only use two types of numbers in our class\n",
        "* Integers are whole numbers, like 7\n",
        "* Floats are floating point numbers, like 1.2345\n"
      ]
    },
    {
      "metadata": {
        "id": "lwyUaHgpn4ho",
        "colab_type": "text"
      },
      "cell_type": "markdown",
      "source": [
        "## Strings\n",
        "A string is a sequence of characters. Strings are basically just a bunch of words.\n",
        "You will be using strings in almost every Python program that you write, so pay attention to the following part.\n",
        "### Single Quote\n",
        "You can specify strings using single quotes such as 'Quote me on this'.\n",
        "All white space i.e. spaces and tabs, within the quotes, are preserved as-is.\n",
        "### Double Quotes\n",
        "Strings in double quotes work exactly the same way as strings in single quotes. An example is \"What's your name?\".\n",
        "### Triple Quotes\n",
        "You can specify multi-line strings using triple quotes - (\"\"\" or '''). You can use single quotes and double quotes freely within the triple quotes. An example is:\n",
        "```\n",
        "'''This is a multi-line string. This is the first line.\n",
        "This is the second line.\n",
        "\"What's your name?,\" I asked.\n",
        "He said \"Bond, James Bond.\"\n",
        "'''\n",
        "```\n",
        "### Strings Are Immutable\n",
        "Above we said Numbers and strings are literal constants - they always mean the same thing. This means that once you have created a string, you cannot change it. A changed string is a different string!\n"
      ]
    },
    {
      "metadata": {
        "id": "nYo-2RBFqKNf",
        "colab_type": "text"
      },
      "cell_type": "markdown",
      "source": [
        "## Escape Sequences\n",
        "Escape sequences allow you to use special characters in strings.\n",
        "### The single tick\n",
        "\n",
        "Suppose you want to have a string which contains a single quote ```(')```, how will you specify this string?\n",
        "\n",
        "For example, the string is ```\"What's your name?\"```.\n",
        "\n",
        "**You cannot specify ```'What's your name?'``` because Python will be confused as to where the string starts and ends.** So, you will have to specify that this single quote does not indicate the end of the string. This can be done with the help of what is called an escape sequence. You specify the single quote as ```\\'``` : notice the backslash.\n",
        "\n",
        "You can specify the string as ```'What\\'s your name?'```.\n",
        "### The backslash\n",
        "Since the backslash is our escape character, we need to use it twice to add a backslash to our strings:\n",
        "\n",
        "**If the string you want is: ``` 'C:\\Users\\Folder\\Filename.ext'``` you must specify it as: ```'C:\\\\Users\\\\Folder\\\\Filename.ext'```**\n",
        "\n",
        "### Double Quotes\n",
        "\n",
        "Another way of specifying this specific string would be ```\"What's your name?\"``` i.e. using double quotes. This solves the problem of a single quote in your text. It doesn't solve the problem of a backslash, or of using double quotes inside your string.\n",
        "\n",
        "## NewLine Charachter\n",
        "\n",
        "What if you wanted to specify a two-line string? One way is to use a triple-quoted string as shown previously or you can use an escape sequence for the newline character - \\n to indicate the start of a new line. An example is:\n",
        "\n",
        "```'This is the first line\\nThis is the second line'```\n",
        "\n",
        "## Tab Charachter\n",
        "Another useful escape sequence to know is the tab: ```\\t```. It will add a tab to a string."
      ]
    },
    {
      "metadata": {
        "id": "g_AboV2HqV9I",
        "colab_type": "code",
        "colab": {
          "autoexec": {
            "startup": false,
            "wait_interval": 0
          },
          "base_uri": "https://localhost:8080/",
          "height": 34
        },
        "outputId": "87231d88-4724-4459-9fe1-df1e1deef004",
        "executionInfo": {
          "status": "ok",
          "timestamp": 1520847964497,
          "user_tz": -780,
          "elapsed": 1008,
          "user": {
            "displayName": "Jonathan Brewer",
            "photoUrl": "//lh6.googleusercontent.com/-JjOd_rVUQeM/AAAAAAAAAAI/AAAAAAAAATQ/xtlbjp_YgpI/s50-c-k-no/photo.jpg",
            "userId": "105795496123773328152"
          }
        }
      },
      "cell_type": "code",
      "source": [
        "# Escape the statement below so that it prints correctly.\n",
        "MyString = 'How\\'s it going today?'\n",
        "print(MyString)"
      ],
      "execution_count": 0,
      "outputs": [
        {
          "output_type": "stream",
          "text": [
            "How's it going today?\n"
          ],
          "name": "stdout"
        }
      ]
    },
    {
      "metadata": {
        "id": "FoKvIk5fq5GT",
        "colab_type": "code",
        "colab": {
          "autoexec": {
            "startup": false,
            "wait_interval": 0
          },
          "base_uri": "https://localhost:8080/",
          "height": 34
        },
        "outputId": "8c326734-4153-44a5-ee1f-790660b85bd2",
        "executionInfo": {
          "status": "ok",
          "timestamp": 1526678756555,
          "user_tz": -120,
          "elapsed": 597,
          "user": {
            "displayName": "Pietro M.",
            "photoUrl": "//lh3.googleusercontent.com/-xvb0GuaYitM/AAAAAAAAAAI/AAAAAAAAAAA/1u64RrjWgXQ/s50-c-k-no/photo.jpg",
            "userId": "111789482584670799205"
          }
        }
      },
      "cell_type": "code",
      "source": [
        "# Make MyString print over two lines.\n",
        "MyString = \"This is the first line. This is the second line.\"\n",
        "print(MyString)"
      ],
      "execution_count": 2,
      "outputs": [
        {
          "output_type": "stream",
          "text": [
            "This is the first line. This is the second line.\n"
          ],
          "name": "stdout"
        }
      ]
    },
    {
      "metadata": {
        "id": "oULtQPFJS7mr",
        "colab_type": "text"
      },
      "cell_type": "markdown",
      "source": [
        "# Variables\n",
        "\n"
      ]
    },
    {
      "metadata": {
        "id": "KnKz3hPov29j",
        "colab_type": "text"
      },
      "cell_type": "markdown",
      "source": [
        "Variables are exactly what the name implies - their value can vary, i.e., you can store anything using a variable. Variables are just parts of your computer's memory where you store some information. Unlike literal constants, you need some method of accessing these variables and hence you give them names.\n",
        "## Identifier Naming\n",
        "Variables are examples of identifiers. Identifiers are names given to identify something. There are some rules you have to follow for naming identifiers:\n",
        "* The first character of the identifier must be a letter of the alphabet (uppercase ASCII or lowercase ASCII or Unicode character) or an underscore (_).\n",
        "* The rest of the identifier name can consist of letters (uppercase ASCII or lowercase ASCII or Unicode character), underscores (_) or digits (0-9).\n",
        "* Identifier names are case-sensitive. For example, myname and myName are not the same. Note the lowercase n in the former and the uppercase N in the latter.\n",
        "* Examples of valid identifier names are i, name_2_3. Examples of invalid identifier names are ```2things```, ```this is spaced out```, ```my-name``` and ```>a1b2_c3```.\n"
      ]
    },
    {
      "metadata": {
        "id": "90L8i0AYXBYJ",
        "colab_type": "text"
      },
      "cell_type": "markdown",
      "source": [
        "Fix the broken variables names below to make this program work."
      ]
    },
    {
      "metadata": {
        "id": "qA8wJWOkWT69",
        "colab_type": "code",
        "colab": {
          "autoexec": {
            "startup": false,
            "wait_interval": 0
          },
          "base_uri": "https://localhost:8080/",
          "height": 130
        },
        "outputId": "0780d72b-10ac-4797-dc8d-833d972bbb47",
        "executionInfo": {
          "status": "error",
          "timestamp": 1517538762630,
          "user_tz": -780,
          "elapsed": 607,
          "user": {
            "displayName": "Jonathan Brewer",
            "photoUrl": "//lh6.googleusercontent.com/-JjOd_rVUQeM/AAAAAAAAAAI/AAAAAAAAATQ/xtlbjp_YgpI/s50-c-k-no/photo.jpg",
            "userId": "105795496123773328152"
          }
        }
      },
      "cell_type": "code",
      "source": [
        "1st_bad_var = 10\n",
        "2nd_bad_var = 9\n",
        "third-bad-var = 8\n",
        "# Don't forget to fix the variable names in the statement below too!\n",
        "sum = 1st_bad_var + 2nd_bad_var + third-bad-var\n",
        "print (sum)"
      ],
      "execution_count": 0,
      "outputs": [
        {
          "output_type": "error",
          "ename": "SyntaxError",
          "evalue": "ignored",
          "traceback": [
            "\u001b[0;36m  File \u001b[0;32m\"<ipython-input-9-8bd885895790>\"\u001b[0;36m, line \u001b[0;32m4\u001b[0m\n\u001b[0;31m    sum = 1st_bad_var + 2nd_bad_var + third-bad-var\u001b[0m\n\u001b[0m                    ^\u001b[0m\n\u001b[0;31mSyntaxError\u001b[0m\u001b[0;31m:\u001b[0m invalid syntax\n"
          ]
        }
      ]
    },
    {
      "metadata": {
        "id": "UxwQZCTWuC1_",
        "colab_type": "text"
      },
      "cell_type": "markdown",
      "source": [
        "# A First Program"
      ]
    },
    {
      "metadata": {
        "id": "6tQ0VlGTuF_o",
        "colab_type": "text"
      },
      "cell_type": "markdown",
      "source": [
        "Type and run the following program:\n",
        "\n",
        "\n",
        "```\n",
        "# Filename : var.py\n",
        "i = 5\n",
        "print(i)\n",
        "i = i + 1\n",
        "print(i)\n",
        "\n",
        "s = '''This is a multi-line string.\n",
        "This is the second line.'''\n",
        "print(s)\n",
        "\n",
        "```\n",
        "\n"
      ]
    },
    {
      "metadata": {
        "id": "6VRNK0KluOsK",
        "colab_type": "code",
        "colab": {
          "autoexec": {
            "startup": false,
            "wait_interval": 0
          }
        }
      },
      "cell_type": "code",
      "source": [
        "# Add your program and run it here"
      ],
      "execution_count": 0,
      "outputs": []
    },
    {
      "metadata": {
        "id": "v0B-k41QuaPJ",
        "colab_type": "text"
      },
      "cell_type": "markdown",
      "source": [
        "## How It Works\n",
        "Here's how this program works.\n",
        " * First, we assign the literal constant value 5 to the variable i using the assignment operator (=). This line is called a statement because it states that something should be done and in this case, we connect the variable name i to the value 5.\n",
        " * Next, we print the value of i using the print statement which, unsurprisingly, just prints the value of the variable to the screen.\n",
        " * Then we add 1 to the value stored in i and store it back. We then print it and expectedly, we get the value 6.\n",
        " * Similarly, we assign the literal string to the variables and then print it."
      ]
    },
    {
      "metadata": {
        "id": "fmqiFcGjvChf",
        "colab_type": "text"
      },
      "cell_type": "markdown",
      "source": [
        "# Logical and Physical Lines"
      ]
    },
    {
      "metadata": {
        "id": "Slvaf5WgvGLf",
        "colab_type": "text"
      },
      "cell_type": "markdown",
      "source": [
        "A physical line is what you see when you write the program. A logical line is what Python sees as a single statement. Python implicitly assumes that each physical line corresponds to a logical line.\n",
        "\n",
        "An example of a logical line is a statement like print 'hello world' - if this was on a line by itself (as you see it in an editor), then this also corresponds to a physical line.\n",
        "\n",
        "Implicitly, Python encourages the use of a single statement per line which makes code more readable.\n",
        "\n",
        "If you want to specify more than one logical line on a single physical line, then you have to explicitly specify this using a semicolon (;) which indicates the end of a logical line/statement.\n",
        "\n",
        "**For example:**\n",
        "\n",
        "```\n",
        "i = 5\n",
        "print(i)\n",
        "```\n",
        "**is effectively same as**\n",
        "```\n",
        "i = 5;\n",
        "print(i);\n",
        "```\n",
        "**which is also same as**\n",
        "```i = 5; print(i);```\n",
        "**and same as**\n",
        "```i = 5; print(i)```\n",
        "\n",
        "However, I strongly recommend that you stick to writing a maximum of a single logical line on each single physical line. The idea is that you should never use the semicolon. In fact, I have never used or even seen a semicolon in a Python program.\n",
        "\n",
        "There is one kind of situation where this concept is really useful: if you have a long line of code, you can break it into multiple physical lines by using the backslash. This is referred to as explicit line joining:\n",
        "```\n",
        "s = 'This is a string. \\\n",
        "This continues the string.'\n",
        "print(s)\n",
        "```\n",
        "**Output:**\n",
        "\n",
        "```This is a string. This continues the string.```\n",
        "\n",
        "**Similarly,**\n",
        "```\n",
        "i = \\\n",
        "5\n",
        "```\n",
        "**is the same as**\n",
        "```\n",
        "i = 5\n",
        "```\n",
        "\n",
        "Sometimes, there is an implicit assumption where you don't need to use a backslash. This is the case where the logical line has a starting parentheses, starting square brackets or a starting curly braces but not an ending one. This is called implicit line joining. You can see this in action when we write programs using list in later chapters.\n"
      ]
    },
    {
      "metadata": {
        "id": "eAZ0hPwavwM9",
        "colab_type": "code",
        "colab": {
          "autoexec": {
            "startup": false,
            "wait_interval": 0
          }
        }
      },
      "cell_type": "code",
      "source": [
        ""
      ],
      "execution_count": 0,
      "outputs": []
    },
    {
      "metadata": {
        "id": "c67g3nmov-A_",
        "colab_type": "text"
      },
      "cell_type": "markdown",
      "source": [
        "# Indentation"
      ]
    },
    {
      "metadata": {
        "id": "oRM_rYoywB4R",
        "colab_type": "text"
      },
      "cell_type": "markdown",
      "source": [
        "Whitespace is important in Python. Actually, whitespace at the beginning of the line is important. This is called indentation. Leading whitespace (spaces and tabs) at the beginning of the logical line is used to determine the indentation level of the logical line, which in turn is used to determine the grouping of statements.\n",
        "\n",
        "This means that statements which go together must have the same indentation. Each such set of statements is called a block. We will see examples of how blocks are important in later chapters.\n",
        "\n",
        "One thing you should remember is that wrong indentation can give rise to errors.\n",
        "\n",
        "**For example:**\n",
        "```\n",
        "i = 5\n",
        "# Error below! Notice a single space at the start of the line\n",
        " print('Value is', i)\n",
        "print('I repeat, the value is', i)\n",
        "```\n",
        "**When you run this, you get the following error:**\n",
        "```\n",
        "File \"whitespace.py\", line 3\n",
        " print('Value is', i)\n",
        " ^\n",
        "IndentationError: unexpected indent\n",
        "```\n",
        "Notice that there is a single space at the beginning of the second line. The error indicated by Python tells us that the syntax of the program is invalid i.e. the program was not properly written. What this means to you is that you cannot arbitrarily start new blocks of statements (except for the default main block which you have been using all along, of course). Cases where you can use new blocks will be detailed in later chapters such as the control flow."
      ]
    },
    {
      "metadata": {
        "id": "_GIOhQmbyZyz",
        "colab_type": "code",
        "colab": {
          "autoexec": {
            "startup": false,
            "wait_interval": 0
          },
          "base_uri": "https://localhost:8080/",
          "height": 130
        },
        "outputId": "0d4062cc-9e94-470e-853f-c196caa7b589",
        "executionInfo": {
          "status": "error",
          "timestamp": 1517780868698,
          "user_tz": -780,
          "elapsed": 635,
          "user": {
            "displayName": "Jonathan Brewer",
            "photoUrl": "//lh6.googleusercontent.com/-JjOd_rVUQeM/AAAAAAAAAAI/AAAAAAAAATQ/xtlbjp_YgpI/s50-c-k-no/photo.jpg",
            "userId": "105795496123773328152"
          }
        }
      },
      "cell_type": "code",
      "source": [
        "# Fix the error below\n",
        "i = 5\n",
        " print('Value is', i)\n",
        "print('I repeat, the value is', i)"
      ],
      "execution_count": 0,
      "outputs": [
        {
          "output_type": "error",
          "ename": "IndentationError",
          "evalue": "ignored",
          "traceback": [
            "\u001b[0;36m  File \u001b[0;32m\"<ipython-input-9-acb9dfd0e576>\"\u001b[0;36m, line \u001b[0;32m2\u001b[0m\n\u001b[0;31m    print('Value is', i)\u001b[0m\n\u001b[0m    ^\u001b[0m\n\u001b[0;31mIndentationError\u001b[0m\u001b[0;31m:\u001b[0m unexpected indent\n"
          ]
        }
      ]
    },
    {
      "metadata": {
        "id": "jsuXKnZQzXg_",
        "colab_type": "text"
      },
      "cell_type": "markdown",
      "source": [
        "# Operators and Expressions"
      ]
    },
    {
      "metadata": {
        "id": "akRWGIu8zaIW",
        "colab_type": "text"
      },
      "cell_type": "markdown",
      "source": [
        "Most statements (logical lines) that you write will contain _expressions_. A simple example of an expression is `2 + 3`. An expression can be broken down into operators and operands.\n",
        "\n",
        "_Operators_ are functionality that do something and can be represented by symbols such as `+` or by special keywords. Operators require some data to operate on and such data is called _operands_. In this case, `2` and `3` are the operands.\n",
        "\n",
        "## Operators\n",
        "\n",
        "We will briefly take a look at the operators and their usage.\n",
        "\n",
        "Note that you can evaluate the expressions given in the examples using the interpreter interactively. For example, to test the expression `2 + 3`, use the interactive Python interpreter prompt:\n"
      ]
    },
    {
      "metadata": {
        "id": "pdLkrGoFzyRH",
        "colab_type": "code",
        "colab": {
          "autoexec": {
            "startup": false,
            "wait_interval": 0
          }
        }
      },
      "cell_type": "code",
      "source": [
        "# Type 2 + 3\n",
        "\n",
        "# Then type 3 * 5\n"
      ],
      "execution_count": 0,
      "outputs": []
    },
    {
      "metadata": {
        "id": "zYj-xwupzypj",
        "colab_type": "text"
      },
      "cell_type": "markdown",
      "source": [
        "\n",
        "## Here is a quick overview of the available operators:\n",
        "\n",
        "- `+` (plus)\n",
        "    - Adds two objects\n",
        "    - `3 + 5` gives `8`. `'a' + 'b'` gives `'ab'`.\n",
        "\n",
        "- `-` (minus)\n",
        "    - Gives the subtraction of one number from the other; if the first operand is absent it is assumed to be zero.\n",
        "    - `-5.2` gives a negative number and `50 - 24` gives `26`.\n",
        "\n",
        "- `*` (multiply)\n",
        "    - Gives the multiplication of the two numbers or returns the string repeated that many times.\n",
        "    - `2 * 3` gives `6`. `'la' * 3` gives `'lalala'`.\n",
        "\n",
        "- `**` (power)\n",
        "    - Returns x to the power of y\n",
        "    - `3 ** 4` gives `81` (i.e. `3 * 3 * 3 * 3`)\n",
        "\n",
        "- `/` (divide)\n",
        "    - Divide x by y\n",
        "    - `13 / 3` gives `4.333333333333333`\n",
        "\n",
        "- `//` (divide and floor)\n",
        "    - Divide x by y and round the answer _down_ to the nearest integer value. Note that if one of the values is a float, you'll get back a float.\n",
        "    - `13 // 3` gives `4`\n",
        "    - `-13 // 3` gives `-5`\n",
        "    - `9//1.81` gives `4.0`\n",
        "\n",
        "- `%` (modulo)\n",
        "    - Returns the remainder of the division\n",
        "    - `13 % 3` gives `1`. `-25.5 % 2.25` gives `1.5`.\n",
        "\n",
        "- `<<` (left shift)\n",
        "    - Shifts the bits of the number to the left by the number of bits specified. (Each number is represented in memory by bits or binary digits i.e. 0 and 1)\n",
        "    - `2 << 2` gives `8`. `2` is represented by `10` in bits.\n",
        "    - Left shifting by 2 bits gives `1000` which represents the decimal `8`.\n",
        "\n",
        "- `>>` (right shift)\n",
        "    - Shifts the bits of the number to the right by the number of bits specified.\n",
        "    - `11 >> 1` gives `5`.\n",
        "    - `11` is represented in bits by `1011` which when right shifted by 1 bit gives `101`which is the decimal `5`.\n",
        "\n",
        "- `&` (bit-wise AND)\n",
        "    - Bit-wise AND of the numbers\n",
        "    - `5 & 3` gives `1`.\n",
        "\n",
        "- `|` (bit-wise OR)\n",
        "    - Bitwise OR of the numbers\n",
        "    - `5 | 3` gives `7`\n",
        "\n",
        "- `^` (bit-wise XOR)\n",
        "    - Bitwise XOR of the numbers\n",
        "    - `5 ^ 3` gives `6`\n",
        "\n",
        "- `~` (bit-wise invert)\n",
        "    - The bit-wise inversion of x is -(x+1)\n",
        "    - `~5` gives `-6`. More details at http://stackoverflow.com/a/11810203\n",
        "\n",
        "- `<` (less than)\n",
        "    - Returns whether x is less than y. All comparison operators return `True` or `False`. Note the capitalization of these names.\n",
        "    - `5 < 3` gives `False` and `3 < 5` gives `True`.\n",
        "    - Comparisons can be chained arbitrarily: `3 < 5 < 7` gives `True`.\n",
        "\n",
        "- `>` (greater than)\n",
        "    - Returns whether x is greater than y\n",
        "    - `5 > 3` returns `True`. If both operands are numbers, they are first converted to a common type. Otherwise, it always returns `False`.\n",
        "\n",
        "- `<=` (less than or equal to)\n",
        "    - Returns whether x is less than or equal to y\n",
        "    - `x = 3; y = 6; x <= y` returns `True`\n",
        "\n",
        "- `>=` (greater than or equal to)\n",
        "    - Returns whether x is greater than or equal to y\n",
        "    - `x = 4; y = 3; x >= 3` returns `True`\n",
        "\n",
        "- `==` (equal to)\n",
        "    - Compares if the objects are equal\n",
        "    - `x = 2; y = 2; x == y` returns `True`\n",
        "    - `x = 'str'; y = 'stR'; x == y` returns `False`\n",
        "    - `x = 'str'; y = 'str'; x == y` returns `True`\n",
        "\n",
        "- `!=` (not equal to)\n",
        "    - Compares if the objects are not equal\n",
        "    - `x = 2; y = 3; x != y` returns `True`\n",
        "\n",
        "- `not` (boolean NOT)\n",
        "    - If x is `True`, it returns `False`. If x is `False`, it returns `True`.\n",
        "    - `x = True; not x` returns `False`.\n",
        "\n",
        "- `and` (boolean AND)\n",
        "    - `x and y` returns `False` if x is `False`, else it returns evaluation of y\n",
        "    - `x = False; y = True; x and y` returns `False` since x is False. In this case, Python will not evaluate y since it knows that the left hand side of the 'and' expression is `False` which implies that the whole expression will be `False` irrespective of the other values. This is called short-circuit evaluation.\n",
        "\n",
        "- `or` (boolean OR)\n",
        "    - If x is `True`, it returns True, else it returns evaluation of y\n",
        "    - `x = True; y = False; x or y` returns `True`. Short-circuit evaluation applies here as well.\n",
        "\n"
      ]
    },
    {
      "metadata": {
        "id": "5sVCubma1RI2",
        "colab_type": "text"
      },
      "cell_type": "markdown",
      "source": [
        "## Shortcut for math operation and assignment\n",
        "\n",
        "It is common to run a math operation on a variable and then assign the result of the operation back to the variable, hence there is a shortcut for such expressions:\n",
        "\n",
        "```python\n",
        "a = 2\n",
        "a = a * 3\n",
        "```\n",
        "\n",
        "can be written as:\n",
        "\n",
        "```python\n",
        "a = 2\n",
        "a *= 3\n",
        "```\n",
        "\n",
        "Notice that `var = var operation expression` becomes `var operation= expression`.\n",
        "\n"
      ]
    },
    {
      "metadata": {
        "id": "fZLM0FRT1Tpd",
        "colab_type": "text"
      },
      "cell_type": "markdown",
      "source": [
        "## Evaluation Order\n",
        "\n",
        "If you had an expression such as `2 + 3 * 4`, is the addition done first or the multiplication? Our high school maths tells us that the multiplication should be done first. This means that the multiplication operator has higher precedence than the addition operator.\n",
        "\n",
        "The following table gives the precedence table for Python, from the lowest precedence (least binding) to the highest precedence (most binding). This means that in a given expression, Python will first evaluate the operators and expressions lower in the table before the ones listed higher in the table.\n",
        "\n",
        "The following table, taken from the [Python reference manual](http://docs.python.org/3/reference/expressions.html#operator-precedence), is provided for the sake of completeness. It is far better to use parentheses to group operators and operands appropriately in order to explicitly specify the precedence. This makes the program more readable. See [Changing the Order of Evaluation](#changing-order-of-evaluation) below for details.\n",
        "\n",
        "- `lambda` : Lambda Expression\n",
        "- `if - else` : Conditional expression\n",
        "- `or` : Boolean OR\n",
        "- `and` : Boolean AND\n",
        "- `not x` : Boolean NOT\n",
        "- `in, not in, is, is not, <, <=, >, >=, !=, ==` : Comparisons, including membership tests and identity tests\n",
        "- `|` : Bitwise OR\n",
        "- `^` : Bitwise XOR\n",
        "- `&` : Bitwise AND\n",
        "- `<<, >>` : Shifts\n",
        "- `+, -` : Addition and subtraction\n",
        "- `*, /, //, %` : Multiplication, Division, Floor Division and Remainder\n",
        "- `+x, -x, ~x` : Positive, Negative, bitwise NOT\n",
        "- `**` : Exponentiation\n",
        "- `x[index], x[index:index], x(arguments...), x.attribute` : Subscription, slicing, call, attribute reference\n",
        "- `(expressions...), [expressions...], {key: value...}, {expressions...}` : Binding or tuple display, list display, dictionary display, set display\n",
        "\n",
        "The operators which we have not already come across will be explained in later chapters.\n",
        "\n",
        "Operators with the _same precedence_ are listed in the same row in the above table. For example, `+` and `-` have the same precedence.\n",
        "\n"
      ]
    },
    {
      "metadata": {
        "id": "4hyoFRVW1WMn",
        "colab_type": "text"
      },
      "cell_type": "markdown",
      "source": [
        "## Changing the Order Of Evaluation {#changing-order-of-evaluation}\n",
        "\n",
        "To make the expressions more readable, we can use parentheses. For example, `2 + (3 * 4)` is definitely easier to understand than `2 + 3 * 4` which requires knowledge of the operator precedences. As with everything else, the parentheses should be used reasonably (do not overdo it) and should not be redundant, as in `(2 + (3 * 4))`.\n",
        "\n",
        "There is an additional advantage to using parentheses - it helps us to change the order of evaluation. For example, if you want addition to be evaluated before multiplication in an expression, then you can write something like `(2 + 3) * 4`.\n",
        "\n"
      ]
    },
    {
      "metadata": {
        "id": "hkkPdQYR1YXH",
        "colab_type": "text"
      },
      "cell_type": "markdown",
      "source": [
        "## Associativity\n",
        "\n",
        "Operators are usually associated from left to right. This means that operators with the same precedence are evaluated in a left to right manner. For example, `2 + 3 + 4` is evaluated as `(2 + 3) + 4`.\n",
        "\n"
      ]
    },
    {
      "metadata": {
        "id": "m7PLcgvL1axo",
        "colab_type": "text"
      },
      "cell_type": "markdown",
      "source": [
        "## Expressions\n",
        "\n",
        "Example (save as `expression.py`):\n",
        "\n",
        "```python\n",
        "length = 5\n",
        "breadth = 2\n",
        "\n",
        "area = length * breadth\n",
        "print('Area is', area)\n",
        "print('Perimeter is', 2 * (length + breadth))\n",
        "```\n",
        "\n",
        "Output:\n",
        "\n",
        "```\n",
        "$ python expression.py\n",
        "Area is 10\n",
        "Perimeter is 14\n",
        "```\n",
        "\n",
        "**How It Works**\n",
        "\n",
        "The length and breadth of the rectangle are stored in variables by the same name. We use these to calculate the area and perimeter of the rectangle with the help of expressions. We store the result of the expression `length * breadth` in the variable `area` and then print it using the `print` function. In the second case, we directly use the value of the expression `2 * (length + breadth)` in the print function.\n",
        "\n",
        "Also, notice how Python _pretty-prints_ the output. Even though we have not specified a space between `'Area is'` and the variable `area`, Python puts it for us so that we get a clean nice output and the program is much more readable this way (since we don't need to worry about spacing in the strings we use for output). This is an example of how Python makes life easy for the programmer.\n"
      ]
    },
    {
      "metadata": {
        "id": "_NWEUeR41seN",
        "colab_type": "text"
      },
      "cell_type": "markdown",
      "source": [
        "#  Control Flow"
      ]
    },
    {
      "metadata": {
        "id": "5CSu_X4V1wFL",
        "colab_type": "text"
      },
      "cell_type": "markdown",
      "source": [
        "In the programs we have seen till now, there has always been a series of statements faithfully executed by Python in exact top-down order. What if you wanted to change the flow of how it works? For example, you want the program to take some decisions and do different things depending on different situations, such as printing 'Good Morning' or 'Good Evening' depending on the time of the day?\n",
        "\n",
        "As you might have guessed, this is achieved using control flow statements. There are three control flow statements in Python - `if`, `for` and `while`."
      ]
    },
    {
      "metadata": {
        "id": "wWU726uL2AtM",
        "colab_type": "text"
      },
      "cell_type": "markdown",
      "source": [
        "## The `if` statement\n",
        "\n",
        "The `if` statement is used to check a condition: *if* the condition is true, we run a block of statements (called the _if-block_), *else* we process another block of statements (called the _else-block_). The *else* clause is optional.\n",
        "\n",
        "**Example:**\n",
        "\n",
        "\n"
      ]
    },
    {
      "metadata": {
        "id": "mS7XyI5UBPMT",
        "colab_type": "code",
        "colab": {
          "autoexec": {
            "startup": false,
            "wait_interval": 0
          },
          "base_uri": "https://localhost:8080/",
          "height": 85
        },
        "outputId": "438309da-442e-4635-bf23-fb6c4175f32c",
        "executionInfo": {
          "status": "ok",
          "timestamp": 1517784758975,
          "user_tz": -780,
          "elapsed": 3461,
          "user": {
            "displayName": "Jonathan Brewer",
            "photoUrl": "//lh6.googleusercontent.com/-JjOd_rVUQeM/AAAAAAAAAAI/AAAAAAAAATQ/xtlbjp_YgpI/s50-c-k-no/photo.jpg",
            "userId": "105795496123773328152"
          }
        }
      },
      "cell_type": "code",
      "source": [
        "number = 23\n",
        "guess = int(input('Enter an integer : '))\n",
        "\n",
        "if guess == number:\n",
        "    # New block starts here\n",
        "    print('Congratulations, you guessed it.')\n",
        "    print('(but you do not win any prizes!)')\n",
        "    # New block ends here\n",
        "elif guess < number:\n",
        "    # Another block\n",
        "    print('No, it is a little higher than that')\n",
        "    # You can do whatever you want in a block ...\n",
        "else:\n",
        "    print('No, it is a little lower than that')\n",
        "    # you must have guessed > number to reach here\n",
        "\n",
        "print('Done')\n",
        "# This last statement is always executed,\n",
        "# after the if statement is executed."
      ],
      "execution_count": 0,
      "outputs": [
        {
          "output_type": "stream",
          "text": [
            "Enter an integer : 23\n",
            "Congratulations, you guessed it.\n",
            "(but you do not win any prizes!)\n",
            "Done\n"
          ],
          "name": "stdout"
        }
      ]
    },
    {
      "metadata": {
        "id": "oQPHshaqBM4G",
        "colab_type": "text"
      },
      "cell_type": "markdown",
      "source": [
        "**How It Works**\n",
        "\n",
        "In this program, we take guesses from the user and check if it is the number that we have. We set the variable `number` to any integer we want, say `23`. Then, we take the user's guess using the `input()` function. Functions are just reusable pieces of programs. \n",
        "\n",
        "We supply a string to the built-in `input` function which prints it to the screen and waits for input from the user. Once we enter something and press the enter or return key, the `input()` function returns what we entered, as a string. We then convert this string to an integer using `int` and then store it in the variable `guess`. Actually, the `int` is a class but all you need to know right now is that you can use it to convert a string to an integer (assuming the string contains a valid integer in the text).\n",
        "\n",
        "Next, we compare the guess of the user with the number we have chosen. If they are equal, we print a success message. Notice that we use indentation levels to tell Python which statements belong to which block. This is why indentation is so important in Python. I hope you are sticking to the \"consistent indentation\" rule. Are you?\n",
        "\n",
        "Notice how the `if` statement contains a colon at the end - we are indicating to Python that a block of statements follows.\n",
        "\n",
        "Then, we check if the guess is less than the number, and if so, we inform the user that they must guess a little higher than that. What we have used here is the `elif` clause which actually combines two related `if else-if else` statements into one combined `if-elif-else` statement. This makes the program easier and reduces the amount of indentation required.\n",
        "\n",
        "The `elif` and `else` statements must also have a colon at the end of the logical line followed by their corresponding block of statements (with proper indentation, of course)\n",
        "\n",
        "You can have another `if` statement inside the if-block of an `if` statement and so on - this is called a nested `if` statement.\n",
        "\n",
        "Remember that the `elif` and `else` parts are optional. A minimal valid `if` statement is:\n",
        "\n",
        "```python\n",
        "if True:\n",
        "    print('Yes, it is true')\n",
        "```\n",
        "\n",
        "After Python has finished executing the complete `if` statement along with the associated `elif` and `else` clauses, it moves on to the next statement in the block containing the `if` statement. In this case, it is the main block (where execution of the program starts), and the next statement is the `print('Done')` statement. After this, Python sees the ends of the program and simply finishes up.\n",
        "\n",
        "Even though this is a very simple program, I have been pointing out a lot of things that you should notice. All these are pretty straightforward (and surprisingly simple for those of you from C/C++ backgrounds). You will need to become aware of all these things initially, but after some practice you will become comfortable with them, and it will all feel 'natural' to you.\n",
        "\n"
      ]
    },
    {
      "metadata": {
        "id": "5JFS027_BhYe",
        "colab_type": "text"
      },
      "cell_type": "markdown",
      "source": [
        "## The while Statement\n",
        "\n",
        "The `while` statement allows you to repeatedly execute a block of statements as long as a condition is true. A `while` statement is an example of what is called a *looping* statement. A `while` statement can have an optional `else` clause.\n",
        "\n",
        "Example (save as `while.py`):\n",
        "\n"
      ]
    },
    {
      "metadata": {
        "id": "XrEGh152B2ZW",
        "colab_type": "code",
        "colab": {
          "autoexec": {
            "startup": false,
            "wait_interval": 0
          },
          "base_uri": "https://localhost:8080/",
          "height": 221
        },
        "outputId": "f6906433-0ab1-4e5e-9809-8b3f32af774d",
        "executionInfo": {
          "status": "ok",
          "timestamp": 1517784942707,
          "user_tz": -780,
          "elapsed": 17938,
          "user": {
            "displayName": "Jonathan Brewer",
            "photoUrl": "//lh6.googleusercontent.com/-JjOd_rVUQeM/AAAAAAAAAAI/AAAAAAAAATQ/xtlbjp_YgpI/s50-c-k-no/photo.jpg",
            "userId": "105795496123773328152"
          }
        }
      },
      "cell_type": "code",
      "source": [
        "number = 23\n",
        "running = True\n",
        "\n",
        "while running:\n",
        "    guess = int(input('Enter an integer : '))\n",
        "\n",
        "    if guess == number:\n",
        "        print('Congratulations, you guessed it.')\n",
        "        # this causes the while loop to stop\n",
        "        running = False\n",
        "    elif guess < number:\n",
        "        print('No, it is a little higher than that.')\n",
        "    else:\n",
        "        print('No, it is a little lower than that.')\n",
        "else:\n",
        "    print('The while loop is over.')\n",
        "    # Do anything else you want to do here\n",
        "\n",
        "print('Done')\n"
      ],
      "execution_count": 0,
      "outputs": [
        {
          "output_type": "stream",
          "text": [
            "Enter an integer : 43\n",
            "No, it is a little lower than that.\n",
            "Enter an integer : 67\n",
            "No, it is a little lower than that.\n",
            "Enter an integer : 21\n",
            "No, it is a little higher than that.\n",
            "Enter an integer : 22\n",
            "No, it is a little higher than that.\n",
            "Enter an integer : 23\n",
            "Congratulations, you guessed it.\n",
            "The while loop is over.\n",
            "Done\n"
          ],
          "name": "stdout"
        }
      ]
    },
    {
      "metadata": {
        "id": "cC0iqBcDB2yj",
        "colab_type": "text"
      },
      "cell_type": "markdown",
      "source": [
        "\n",
        "**How It Works**\n",
        "\n",
        "In this program, we are still playing the guessing game, but the advantage is that the user is allowed to keep guessing until he guesses correctly - there is no need to repeatedly run the program for each guess, as we have done in the previous section. This aptly demonstrates the use of the `while` statement.\n",
        "\n",
        "We move the `input` and `if` statements to inside the `while` loop and set the variable `running` to `True` before the while loop. First, we check if the variable `running` is `True` and then proceed to execute the corresponding *while-block*. After this block is executed, the condition is again checked which in this case is the `running` variable. If it is true, we execute the while-block again, else we continue to execute the optional else-block and then continue to the next statement.\n",
        "\n",
        "The `else` block is executed when the `while` loop condition becomes `False` - this may even be the first time that the condition is checked. If there is an `else` clause for a `while` loop, it is always executed unless you break out of the loop with a `break` statement.\n",
        "\n",
        "The `True` and `False` are called Boolean types and you can consider them to be equivalent to the value `1` and `0` respectively.\n",
        "\n"
      ]
    },
    {
      "metadata": {
        "id": "rJIPeIb-CqJ3",
        "colab_type": "text"
      },
      "cell_type": "markdown",
      "source": [
        "## The `for` loop\n",
        "\n",
        "The `for..in` statement is another looping statement which *iterates* over a sequence of objects i.e. go through each item in a sequence. We will see more about [sequences](./data_structures.md#sequence) in detail in later chapters. What you need to know right now is that a sequence is just an ordered collection of items.\n",
        "\n",
        "**Example:**\n"
      ]
    },
    {
      "metadata": {
        "id": "5m6BCT3MCtZ_",
        "colab_type": "code",
        "colab": {
          "autoexec": {
            "startup": false,
            "wait_interval": 0
          },
          "base_uri": "https://localhost:8080/",
          "height": 102
        },
        "outputId": "a7b2a76b-1b49-459a-cd7d-8b4fbca4ce9b",
        "executionInfo": {
          "status": "ok",
          "timestamp": 1517785141252,
          "user_tz": -780,
          "elapsed": 611,
          "user": {
            "displayName": "Jonathan Brewer",
            "photoUrl": "//lh6.googleusercontent.com/-JjOd_rVUQeM/AAAAAAAAAAI/AAAAAAAAATQ/xtlbjp_YgpI/s50-c-k-no/photo.jpg",
            "userId": "105795496123773328152"
          }
        }
      },
      "cell_type": "code",
      "source": [
        "for i in range(1, 5):\n",
        "    print(i)\n",
        "else:\n",
        "    print('The for loop is over')\n",
        "    "
      ],
      "execution_count": 0,
      "outputs": [
        {
          "output_type": "stream",
          "text": [
            "1\n",
            "2\n",
            "3\n",
            "4\n",
            "The for loop is over\n"
          ],
          "name": "stdout"
        }
      ]
    },
    {
      "metadata": {
        "id": "KkXJz6YUC1ws",
        "colab_type": "text"
      },
      "cell_type": "markdown",
      "source": [
        "**How It Works**\n",
        "\n",
        "In this program, we are printing a *sequence* of numbers. We generate this sequence of numbers using the built-in `range` function.\n",
        "\n",
        "What we do here is supply it two numbers and `range` returns a sequence of numbers starting from the first number and up to the second number. For example, `range(1,5)` gives the sequence `[1, 2, 3, 4]`. By default, `range` takes a step count of 1. If we supply a third number to `range`, then that becomes the step count. For example, `range(1,5,2)` gives `[1,3]`. Remember that the range extends *up to* the second number i.e. it does *not* include the second number.\n",
        "\n",
        "Note that `range()` generates only one number at a time, if you want the full list of numbers, call `list()` on the `range()`, for example, `list(range(5))` will result in `[0, 1, 2, 3, 4]`. Lists are explained in the [data structures chapter](./data_structures.md#data-structures).\n",
        "\n",
        "The `for` loop then iterates over this range - `for i in range(1,5)` is equivalent to `for i in [1, 2, 3, 4]` which is like assigning each number (or object) in the sequence to i, one at a time, and then executing the block of statements for each value of `i`.  In this case, we just print the value in the block of statements.\n",
        "\n",
        "Remember that the `else` part is optional. When included, it is always executed once after the `for` loop is over unless a [break](#break-statement) statement is encountered.\n",
        "\n",
        "Remember that the `for..in` loop works for any sequence. Here, we have a list of numbers generated by the built-in `range` function, but in general we can use any kind of sequence of any kind of objects! We will explore this idea in detail in later chapters."
      ]
    },
    {
      "metadata": {
        "id": "asrRTnnPH9Xr",
        "colab_type": "text"
      },
      "cell_type": "markdown",
      "source": [
        "## The break Statement\n",
        "\n",
        "The `break` statement is used to *break* out of a loop statement i.e. stop the execution of a looping statement, even if the loop condition has not become `False` or the sequence of items has not been completely iterated over.\n",
        "\n",
        "An important note is that if you *break* out of a `for` or `while` loop, any corresponding loop `else` block is **not** executed.\n",
        "\n",
        "**Example:**"
      ]
    },
    {
      "metadata": {
        "id": "owqXg0ZQIBWP",
        "colab_type": "code",
        "colab": {
          "autoexec": {
            "startup": false,
            "wait_interval": 0
          },
          "base_uri": "https://localhost:8080/",
          "height": 85
        },
        "outputId": "c06468b7-8d40-4399-8c26-ed717b0e1bb5",
        "executionInfo": {
          "status": "ok",
          "timestamp": 1517786528432,
          "user_tz": -780,
          "elapsed": 9343,
          "user": {
            "displayName": "Jonathan Brewer",
            "photoUrl": "//lh6.googleusercontent.com/-JjOd_rVUQeM/AAAAAAAAAAI/AAAAAAAAATQ/xtlbjp_YgpI/s50-c-k-no/photo.jpg",
            "userId": "105795496123773328152"
          }
        }
      },
      "cell_type": "code",
      "source": [
        "while True:\n",
        "    s = input('Enter something : ')\n",
        "    if s == 'quit':\n",
        "        break\n",
        "    print('Length of the string is', len(s))\n",
        "print('Done')\n"
      ],
      "execution_count": 0,
      "outputs": [
        {
          "output_type": "stream",
          "text": [
            "Enter something : Hello\n",
            "Length of the string is 5\n",
            "Enter something : quit\n",
            "Done\n"
          ],
          "name": "stdout"
        }
      ]
    },
    {
      "metadata": {
        "id": "6ohsfruPIPHC",
        "colab_type": "text"
      },
      "cell_type": "markdown",
      "source": [
        "**How It Works**\n",
        "\n",
        "In this program, we repeatedly take the user's input and print the length of each input each\n",
        "time. We are providing a special condition to stop the program by checking if the user input is\n",
        "`'quit'`. We stop the program by *breaking* out of the loop and reach the end of the program.\n",
        "\n",
        "The length of the input string can be found out using the built-in `len` function.\n",
        "\n",
        "Remember that the `break` statement can be used with the `for` loop as well.\n"
      ]
    },
    {
      "metadata": {
        "id": "CgBZL5RfITCD",
        "colab_type": "text"
      },
      "cell_type": "markdown",
      "source": [
        "## The `continue` Statement\n",
        "\n",
        "The `continue` statement is used to tell Python to skip the rest of the statements in the current loop block and to *continue* to the next iteration of the loop.\n",
        "\n",
        "Example (save as `continue.py`):"
      ]
    },
    {
      "metadata": {
        "id": "AlVYsVuDIOuF",
        "colab_type": "code",
        "colab": {
          "autoexec": {
            "startup": false,
            "wait_interval": 0
          },
          "base_uri": "https://localhost:8080/",
          "height": 102
        },
        "outputId": "ed20ecf1-737d-40a4-e3b3-83b5ea44d369",
        "executionInfo": {
          "status": "ok",
          "timestamp": 1517786633295,
          "user_tz": -780,
          "elapsed": 19548,
          "user": {
            "displayName": "Jonathan Brewer",
            "photoUrl": "//lh6.googleusercontent.com/-JjOd_rVUQeM/AAAAAAAAAAI/AAAAAAAAATQ/xtlbjp_YgpI/s50-c-k-no/photo.jpg",
            "userId": "105795496123773328152"
          }
        }
      },
      "cell_type": "code",
      "source": [
        "while True:\n",
        "    s = input('Enter something : ')\n",
        "    if s == 'quit':\n",
        "        break\n",
        "    if len(s) < 3:\n",
        "        print('Too small')\n",
        "        continue\n",
        "    print('Input is of sufficient length')\n",
        "    # Do other kinds of processing here...\n",
        "    "
      ],
      "execution_count": 0,
      "outputs": [
        {
          "output_type": "stream",
          "text": [
            "Enter something : Hello\n",
            "Input is of sufficient length\n",
            "Enter something : GH\n",
            "Too small\n",
            "Enter something : quit\n"
          ],
          "name": "stdout"
        }
      ]
    },
    {
      "metadata": {
        "id": "__oQ7w4fIlxp",
        "colab_type": "text"
      },
      "cell_type": "markdown",
      "source": [
        "**How It Works**\n",
        "\n",
        "In this program, we accept input from the user, but we process the input string only if it is at least 3 characters long. So, we use the built-in `len` function to get the length and if the length is less than 3, we skip the rest of the statements in the block by using the `continue` statement. Otherwise, the rest of the statements in the loop are executed, doing any kind of processing we want to do here.\n",
        "\n",
        "Note that the `continue` statement works with the `for` loop as well."
      ]
    },
    {
      "metadata": {
        "id": "MrGLH9pflJu-",
        "colab_type": "text"
      },
      "cell_type": "markdown",
      "source": [
        "# Functions\n"
      ]
    },
    {
      "metadata": {
        "id": "OL35JiFKmqOp",
        "colab_type": "text"
      },
      "cell_type": "markdown",
      "source": [
        "Functions are reusable pieces of programs. They allow you to give a name to a block of statements, allowing you to run that block using the specified name anywhere in your program and any number of times. This is known as *calling* the function. We have already used many built-in functions such as `len` and `range`.\n",
        "\n",
        "The function concept is probably *the* most important building block of any non-trivial software (in any programming language), so we will explore various aspects of functions in this chapter.\n",
        "\n",
        "Functions are defined using the `def` keyword. After this keyword comes an *identifier* name for the function, followed by a pair of parentheses which may enclose some names of variables, and by the final colon that ends the line. Next follows the block of statements that are part of this function. An example will show that this is actually very simple:\n",
        "\n",
        "**Example:**"
      ]
    },
    {
      "metadata": {
        "id": "9_F9Uv8RlUY5",
        "colab_type": "code",
        "colab": {
          "autoexec": {
            "startup": false,
            "wait_interval": 0
          },
          "base_uri": "https://localhost:8080/",
          "height": 236
        },
        "outputId": "bbde15b7-4737-47f5-d070-a9dba672f66c",
        "executionInfo": {
          "status": "error",
          "timestamp": 1519002295388,
          "user_tz": -345,
          "elapsed": 1400,
          "user": {
            "displayName": "Jonathan Brewer",
            "photoUrl": "//lh6.googleusercontent.com/-JjOd_rVUQeM/AAAAAAAAAAI/AAAAAAAAATQ/xtlbjp_YgpI/s50-c-k-no/photo.jpg",
            "userId": "105795496123773328152"
          }
        }
      },
      "cell_type": "code",
      "source": [
        "# def say_hello():\n",
        "    # block belonging to the function\n",
        "    print('hello world')\n",
        "# End of function\n",
        "\n",
        "say_hello()  # call the function\n",
        "say_hello()  # call the function again"
      ],
      "execution_count": 0,
      "outputs": [
        {
          "output_type": "stream",
          "text": [
            "hello world\n"
          ],
          "name": "stdout"
        },
        {
          "output_type": "error",
          "ename": "NameError",
          "evalue": "ignored",
          "traceback": [
            "\u001b[0;31m---------------------------------------------------------------------------\u001b[0m",
            "\u001b[0;31mNameError\u001b[0m                                 Traceback (most recent call last)",
            "\u001b[0;32m<ipython-input-2-65e704db0853>\u001b[0m in \u001b[0;36m<module>\u001b[0;34m()\u001b[0m\n\u001b[1;32m      2\u001b[0m \u001b[0;31m# End of function\u001b[0m\u001b[0;34m\u001b[0m\u001b[0;34m\u001b[0m\u001b[0m\n\u001b[1;32m      3\u001b[0m \u001b[0;34m\u001b[0m\u001b[0m\n\u001b[0;32m----> 4\u001b[0;31m \u001b[0msay_hello\u001b[0m\u001b[0;34m(\u001b[0m\u001b[0;34m)\u001b[0m  \u001b[0;31m# call the function\u001b[0m\u001b[0;34m\u001b[0m\u001b[0m\n\u001b[0m\u001b[1;32m      5\u001b[0m \u001b[0msay_hello\u001b[0m\u001b[0;34m(\u001b[0m\u001b[0;34m)\u001b[0m  \u001b[0;31m# call the function again\u001b[0m\u001b[0;34m\u001b[0m\u001b[0m\n",
            "\u001b[0;31mNameError\u001b[0m: name 'say_hello' is not defined"
          ]
        }
      ]
    },
    {
      "metadata": {
        "id": "e6bcAvdklV1z",
        "colab_type": "text"
      },
      "cell_type": "markdown",
      "source": [
        "**How It Works**\n",
        "\n",
        "We define a function called `say_hello` using the syntax as explained above. This function takes no parameters and hence there are no variables declared in the parentheses. Parameters to functions are just input to the function so that we can pass in different values to it and get back corresponding results.\n",
        "\n",
        "Notice that we can call the same function twice which means we do not have to write the same code again.\n",
        "\n",
        "## Function Parameters\n",
        "\n",
        "A function can take parameters, which are values you supply to the function so that the function\n",
        "can *do* something utilising those values. These parameters are just like variables except that the\n",
        "values of these variables are defined when we call the function and are already assigned values\n",
        "when the function runs.\n",
        "\n",
        "Parameters are specified within the pair of parentheses in the function definition, separated by\n",
        "commas. When we call the function, we supply the values in the same way.  Note the terminology\n",
        "used - the names given in the function definition are called *parameters* whereas the values you\n",
        "supply in the function call are called *arguments*.\n",
        "\n",
        "**Example:**\n"
      ]
    },
    {
      "metadata": {
        "id": "miEs05qrmGdL",
        "colab_type": "code",
        "colab": {
          "autoexec": {
            "startup": false,
            "wait_interval": 0
          },
          "base_uri": "https://localhost:8080/",
          "height": 52
        },
        "outputId": "9aa7ea6a-b508-4120-e2bf-1d3168982a10",
        "executionInfo": {
          "status": "ok",
          "timestamp": 1519002414139,
          "user_tz": -345,
          "elapsed": 1250,
          "user": {
            "displayName": "Jonathan Brewer",
            "photoUrl": "//lh6.googleusercontent.com/-JjOd_rVUQeM/AAAAAAAAAAI/AAAAAAAAATQ/xtlbjp_YgpI/s50-c-k-no/photo.jpg",
            "userId": "105795496123773328152"
          }
        }
      },
      "cell_type": "code",
      "source": [
        "def print_max(a, b):\n",
        "    if a > b:\n",
        "        print(a, 'is maximum')\n",
        "    elif a == b:\n",
        "        print(a, 'is equal to', b)\n",
        "    else:\n",
        "        print(b, 'is maximum')\n",
        "\n",
        "# directly pass literal values\n",
        "print_max(3, 4)\n",
        "\n",
        "x = 5\n",
        "y = 7\n",
        "\n",
        "# pass variables as arguments\n",
        "print_max(x, y)"
      ],
      "execution_count": 0,
      "outputs": [
        {
          "output_type": "stream",
          "text": [
            "4 is maximum\n",
            "7 is maximum\n"
          ],
          "name": "stdout"
        }
      ]
    },
    {
      "metadata": {
        "id": "GFV_nd-lmIdM",
        "colab_type": "text"
      },
      "cell_type": "markdown",
      "source": [
        "**How It Works**\n",
        "\n",
        "Here, we define a function called `print_max` that uses two parameters called `a` and `b`.  We find out the greater number using a simple `if..else` statement and then print the bigger number.\n",
        "\n",
        "The first time we call the function `print_max`, we directly supply the numbers as arguments. In the second case, we call the function with variables as arguments. `print_max(x, y)` causes the value of argument `x` to be assigned to parameter `a` and the value of argument `y` to be assigned to parameter `b`. The `print_max` function works the same way in both cases.\n",
        "\n",
        "## Local Variables\n",
        "\n",
        "When you declare variables inside a function definition, they are not related in any way to other variables with the same names used outside the function - i.e. variable names are *local* to the function. This is called the *scope* of the variable. All variables have the scope of the block they are declared in starting from the point of definition of the name.\n",
        "\n",
        "Example (save as `function_local.py`):\n",
        "\n"
      ]
    },
    {
      "metadata": {
        "id": "1nhCuSRYmgbV",
        "colab_type": "code",
        "colab": {
          "autoexec": {
            "startup": false,
            "wait_interval": 0
          },
          "base_uri": "https://localhost:8080/",
          "height": 69
        },
        "outputId": "603963ce-f858-4a96-daec-e9cafe7f2b38",
        "executionInfo": {
          "status": "ok",
          "timestamp": 1519002643321,
          "user_tz": -345,
          "elapsed": 1229,
          "user": {
            "displayName": "Jonathan Brewer",
            "photoUrl": "//lh6.googleusercontent.com/-JjOd_rVUQeM/AAAAAAAAAAI/AAAAAAAAATQ/xtlbjp_YgpI/s50-c-k-no/photo.jpg",
            "userId": "105795496123773328152"
          }
        }
      },
      "cell_type": "code",
      "source": [
        "x = 50\n",
        "\n",
        "\n",
        "def func(x):\n",
        "    print('x is', x)\n",
        "    x = 2\n",
        "    print('Changed local x to', x)\n",
        "\n",
        "\n",
        "func(x)\n",
        "print('x is still', x)"
      ],
      "execution_count": 0,
      "outputs": [
        {
          "output_type": "stream",
          "text": [
            "x is 50\n",
            "Changed local x to 2\n",
            "x is still 50\n"
          ],
          "name": "stdout"
        }
      ]
    },
    {
      "metadata": {
        "id": "qLmAFh3gmh9I",
        "colab_type": "text"
      },
      "cell_type": "markdown",
      "source": [
        "**How It Works**\n",
        "\n",
        "The first time that we print the *value* of the name *x* with the first line in the function's body, Python uses the value of the parameter declared in the main block, above the function definition.\n",
        "\n",
        "Next, we assign the value `2` to `x`. The name `x` is local to our function.  So, when we change the value of `x` in the function, the `x` defined in the main block remains unaffected.\n",
        "\n",
        "With the last `print` statement, we display the value of `x` as defined in the main block, thereby confirming that it is actually unaffected by the local assignment within the previously called function.\n",
        "\n",
        "## The `global` statement {#global-statement}\n",
        "\n",
        "If you want to assign a value to a name defined at the top level of the program (i.e. not inside any kind of scope such as functions or classes), then you have to tell Python that the name is not local, but it is *global*. We do this using the `global` statement. It is impossible to assign a value to a variable defined outside a function without the `global` statement.\n",
        "\n",
        "You can use the values of such variables defined outside the function (assuming there is no variable with the same name within the function). However, this is not encouraged and should be avoided since it becomes unclear to the reader of the program as to where that variable's definition is. Using the `global` statement makes it amply clear that the variable is defined in an outermost block.\n",
        "\n",
        "**Example:**"
      ]
    },
    {
      "metadata": {
        "id": "p5S4_rLUnXoU",
        "colab_type": "code",
        "colab": {
          "autoexec": {
            "startup": false,
            "wait_interval": 0
          },
          "base_uri": "https://localhost:8080/",
          "height": 69
        },
        "outputId": "b42dd8fe-1474-4e16-e3f5-8165c71a830d",
        "executionInfo": {
          "status": "ok",
          "timestamp": 1519002807688,
          "user_tz": -345,
          "elapsed": 1239,
          "user": {
            "displayName": "Jonathan Brewer",
            "photoUrl": "//lh6.googleusercontent.com/-JjOd_rVUQeM/AAAAAAAAAAI/AAAAAAAAATQ/xtlbjp_YgpI/s50-c-k-no/photo.jpg",
            "userId": "105795496123773328152"
          }
        }
      },
      "cell_type": "code",
      "source": [
        "x = 50\n",
        "\n",
        "\n",
        "def func():\n",
        "    global x\n",
        "\n",
        "    print('x is', x)\n",
        "    x = 2\n",
        "    print('Changed global x to', x)\n",
        "\n",
        "\n",
        "func()\n",
        "print('Value of x is', x)"
      ],
      "execution_count": 0,
      "outputs": [
        {
          "output_type": "stream",
          "text": [
            "x is 50\n",
            "Changed global x to 2\n",
            "Value of x is 2\n"
          ],
          "name": "stdout"
        }
      ]
    },
    {
      "metadata": {
        "id": "M-ecYJTXnZg0",
        "colab_type": "text"
      },
      "cell_type": "markdown",
      "source": [
        "**How It Works**\n",
        "\n",
        "The `global` statement is used to declare that `x` is a global variable - hence, when we assign a value to `x` inside the function, that change is reflected when we use the value of `x` in the main block.\n",
        "\n",
        "You can specify more than one global variable using the same `global` statement e.g. `global x, y, z`.\n",
        "\n",
        "## Default Argument Values {#default-arguments}\n",
        "\n",
        "For some functions, you may want to make some parameters *optional* and use default values in case the user does not want to provide values for them. This is done with the help of default argument values. You can specify default argument values for parameters by appending to the parameter name in the function definition the assignment operator (`=`) followed by the default value.\n",
        "\n",
        "Note that the default argument value should be a constant. More precisely, the default argument value should be immutable - this is explained in detail in later chapters. For now, just remember this.\n",
        "\n",
        "Example (save as `function_default.py`):\n",
        "\n"
      ]
    },
    {
      "metadata": {
        "id": "em6i_IFSn9sk",
        "colab_type": "code",
        "colab": {
          "autoexec": {
            "startup": false,
            "wait_interval": 0
          }
        }
      },
      "cell_type": "code",
      "source": [
        "def say(message, times=1):\n",
        "    print(message * times)\n",
        "\n",
        "say('Hello')\n",
        "say('World', 5)"
      ],
      "execution_count": 0,
      "outputs": []
    },
    {
      "metadata": {
        "id": "b6_4rV8in_ht",
        "colab_type": "text"
      },
      "cell_type": "markdown",
      "source": [
        "**How It Works**\n",
        "\n",
        "The function named `say` is used to print a string as many times as specified. If we don't supply a value, then by default, the string is printed just once. We achieve this by specifying a default argument value of `1` to the parameter `times`.\n",
        "\n",
        "In the first usage of `say`, we supply only the string and it prints the string once. In the second usage of `say`, we supply both the string and an argument `5` stating that we want to *say* the string message 5 times.\n",
        "\n",
        "> *CAUTION*\n",
        "> \n",
        "> Only those parameters which are at the end of the parameter list can be given default argument\n",
        "> values i.e. you cannot have a parameter with a default argument value preceding a parameter without\n",
        "> a default argument value in the function's parameter list.\n",
        "> \n",
        "> This is because the values are assigned to the parameters by position. For example,`def func(a,\n",
        "> b=5)` is valid, but `def func(a=5, b)` is *not valid*.\n",
        "\n",
        "## Keyword Arguments\n",
        "\n",
        "If you have some functions with many parameters and you want to specify only some of them, then you can give values for such parameters by naming them - this is called *keyword arguments* - we use the name (keyword) instead of the position (which we have been using all along) to specify the arguments to the function.\n",
        "\n",
        "There are two advantages - one, using the function is easier since we do not need to worry about the order of the arguments. Two, we can give values to only those parameters to which we want to, provided that the other parameters have default argument values.\n",
        "\n",
        "Example (save as `function_keyword.py`):\n",
        "\n"
      ]
    },
    {
      "metadata": {
        "id": "8kXbNN-coprA",
        "colab_type": "code",
        "colab": {
          "autoexec": {
            "startup": false,
            "wait_interval": 0
          }
        }
      },
      "cell_type": "code",
      "source": [
        "def func(a, b=5, c=10):\n",
        "    print('a is', a, 'and b is', b, 'and c is', c)\n",
        "\n",
        "func(3, 7)\n",
        "func(25, c=24)\n",
        "func(c=50, a=100)"
      ],
      "execution_count": 0,
      "outputs": []
    },
    {
      "metadata": {
        "id": "Hf1TJzNuorfN",
        "colab_type": "text"
      },
      "cell_type": "markdown",
      "source": [
        "**How It Works**\n",
        "\n",
        "The function named `func` has one parameter without a default argument value, followed by two parameters with default argument values.\n",
        "\n",
        "In the first usage, `func(3, 7)`, the parameter `a` gets the value `3`, the parameter `b` gets the value `7` and `c` gets the default value of `10`.\n",
        "\n",
        "In the second usage `func(25, c=24)`, the variable `a` gets the value of 25 due to the position of the argument. Then, the parameter `c` gets the value of `24` due to naming i.e. keyword arguments. The variable `b` gets the default value of `5`.\n",
        "\n",
        "In the third usage `func(c=50, a=100)`, we use keyword arguments for all specified values. Notice that we are specifying the value for parameter `c` before that for `a` even though `a` is defined before `c` in the function definition.\n",
        "\n",
        "## VarArgs parameters\n",
        "\n",
        "Sometimes you might want to define a function that can take _any_ number of parameters, i.e. **var**iable number of **arg**uments, this can be achieved by using the stars.\n",
        "\n",
        "**Example:**\n",
        "\n"
      ]
    },
    {
      "metadata": {
        "id": "Y0Q9thgkpcrW",
        "colab_type": "code",
        "colab": {
          "autoexec": {
            "startup": false,
            "wait_interval": 0
          },
          "base_uri": "https://localhost:8080/",
          "height": 156
        },
        "outputId": "1a9ad87a-4dfa-4f33-cd30-9c7c52c97fa2",
        "executionInfo": {
          "status": "ok",
          "timestamp": 1519003271980,
          "user_tz": -345,
          "elapsed": 1338,
          "user": {
            "displayName": "Jonathan Brewer",
            "photoUrl": "//lh6.googleusercontent.com/-JjOd_rVUQeM/AAAAAAAAAAI/AAAAAAAAATQ/xtlbjp_YgpI/s50-c-k-no/photo.jpg",
            "userId": "105795496123773328152"
          }
        }
      },
      "cell_type": "code",
      "source": [
        "def total(a=5, *numbers, **phonebook):\n",
        "    print('a', a)\n",
        "    \n",
        "    #iterate through all the items in tuple\n",
        "    for single_item in numbers:\n",
        "        print('single_item', single_item)\n",
        "        \n",
        "    #iterate through all the items in dictionary    \n",
        "    for first_part, second_part in phonebook.items():\n",
        "        print(first_part,second_part)\n",
        "\n",
        "print(total(10,1,2,3,Jack=1123,John=2231,Inge=1560))"
      ],
      "execution_count": 0,
      "outputs": [
        {
          "output_type": "stream",
          "text": [
            "a 10\n",
            "single_item 1\n",
            "single_item 2\n",
            "single_item 3\n",
            "Jack 1123\n",
            "John 2231\n",
            "Inge 1560\n",
            "None\n"
          ],
          "name": "stdout"
        }
      ]
    },
    {
      "metadata": {
        "id": "YIrbkl3OpeVm",
        "colab_type": "text"
      },
      "cell_type": "markdown",
      "source": [
        "**How It Works**\n",
        "\n",
        "When we declare a starred parameter such as `*param`, then all the positional arguments from that point till the end are collected as a tuple called 'param'.\n",
        "\n",
        "Similarly, when we declare a double-starred parameter such as `**param`, then all the keyword arguments from that point till the end are collected as a dictionary called 'param'.\n",
        "\n",
        "We will explore tuples and dictionaries in a [later chapter](./data_structures.md#data-structures).\n",
        "\n",
        "## The `return` statement {#return-statement}\n",
        "\n",
        "The `return` statement is used to *return* from a function i.e. break out of the function. We can optionally *return a value* from the function as well.\n",
        "\n",
        "**Example:**\n",
        "\n"
      ]
    },
    {
      "metadata": {
        "id": "iqg-eAyups5v",
        "colab_type": "code",
        "colab": {
          "autoexec": {
            "startup": false,
            "wait_interval": 0
          }
        }
      },
      "cell_type": "code",
      "source": [
        "def maximum(x, y):\n",
        "    if x > y:\n",
        "        return x\n",
        "    elif x == y:\n",
        "        return 'The numbers are equal'\n",
        "    else:\n",
        "        return y\n",
        "\n",
        "print(maximum(2, 3))"
      ],
      "execution_count": 0,
      "outputs": []
    },
    {
      "metadata": {
        "id": "ie6DFPeGpuqg",
        "colab_type": "text"
      },
      "cell_type": "markdown",
      "source": [
        "**How It Works**\n",
        "\n",
        "The `maximum` function returns the maximum of the parameters, in this case the numbers supplied to the function. It uses a simple `if..else` statement to find the greater value and then *returns* that value.\n",
        "\n",
        "Note that a `return` statement without a value is equivalent to `return None`. `None` is a special type in Python that represents nothingness. For example, it is used to indicate that a variable has no value if it has a value of `None`.\n",
        "\n",
        "Every function implicitly contains a `return None` statement at the end unless you have written your own `return` statement. You can see this by running `print(some_function())` where the function `some_function` does not use the `return` statement such as:\n",
        "\n",
        "```python\n",
        "def some_function():\n",
        "    pass\n",
        "```\n",
        "\n",
        "The `pass` statement is used in Python to indicate an empty block of statements.\n",
        "\n",
        "> TIP: There is a built-in function called `max` that already implements the 'find maximum' functionality, so use this built-in function whenever possible.\n",
        "\n",
        "## DocStrings\n",
        "\n",
        "Python has a nifty feature called *documentation strings*, usually referred to by its shorter name *docstrings*. DocStrings are an important tool that you should make use of since it helps to document the program better and makes it easier to understand. Amazingly, we can even get the docstring back from, say a function, when the program is actually running!\n",
        "\n",
        "**Example:**\n"
      ]
    },
    {
      "metadata": {
        "id": "l6jizYfPqBUm",
        "colab_type": "code",
        "colab": {
          "autoexec": {
            "startup": false,
            "wait_interval": 0
          },
          "base_uri": "https://localhost:8080/",
          "height": 69
        },
        "outputId": "67868bd3-d151-446a-b6f2-f47f09e1a72c",
        "executionInfo": {
          "status": "ok",
          "timestamp": 1519003429768,
          "user_tz": -345,
          "elapsed": 1273,
          "user": {
            "displayName": "Jonathan Brewer",
            "photoUrl": "//lh6.googleusercontent.com/-JjOd_rVUQeM/AAAAAAAAAAI/AAAAAAAAATQ/xtlbjp_YgpI/s50-c-k-no/photo.jpg",
            "userId": "105795496123773328152"
          }
        }
      },
      "cell_type": "code",
      "source": [
        "def print_max(x, y):\n",
        "    '''Prints the maximum of two numbers.\n",
        "    The two values must be integers.'''\n",
        "    # convert to integers, if possible\n",
        "    x = int(x)\n",
        "    y = int(y)\n",
        "\n",
        "    if x > y:\n",
        "        print(x, 'is maximum')\n",
        "    else:\n",
        "        print(y, 'is maximum')\n",
        "\n",
        "print_max(3, 5)\n",
        "print(print_max.__doc__)"
      ],
      "execution_count": 0,
      "outputs": [
        {
          "output_type": "stream",
          "text": [
            "5 is maximum\n",
            "Prints the maximum of two numbers.\n",
            "    The two values must be integers.\n"
          ],
          "name": "stdout"
        }
      ]
    },
    {
      "metadata": {
        "id": "orrrhdOpqCmr",
        "colab_type": "text"
      },
      "cell_type": "markdown",
      "source": [
        "**How It Works**\n",
        "\n",
        "A string on the first logical line of a function is the *docstring* for that function. Note that DocStrings also apply to [modules](./modules.md#modules) and [classes](./oop.md#oop) which we will learn about in the respective chapters.\n",
        "\n",
        "The convention followed for a docstring is a multi-line string where the first line starts with a capital letter and ends with a dot. Then the second line is blank followed by any detailed explanation starting from the third line. You are *strongly advised* to follow this convention for all your docstrings for all your non-trivial functions.\n",
        "\n",
        "We can access the docstring of the `print_max` function using the `__doc__` (notice the *double underscores*) attribute (name belonging to) of the function. Just remember that Python treats *everything* as an object and this includes functions. We'll learn more about objects in the chapter on [classes](./oop.md#oop).\n",
        "\n",
        "If you have used `help()` in Python, then you have already seen the usage of docstrings! What it does is just fetch the `__doc__` attribute of that function and displays it in a neat manner for you. You can try it out on the function above - just include `help(print_max)` in your program. Remember to press the `q` key to exit `help`.\n",
        "\n",
        "Automated tools can retrieve the documentation from your program in this manner. Therefore, I *strongly recommend* that you use docstrings for any non-trivial function that you write. The `pydoc` command that comes with your Python distribution works similarly to `help()` using docstrings.\n"
      ]
    },
    {
      "metadata": {
        "id": "bIZov1IT0PR1",
        "colab_type": "text"
      },
      "cell_type": "markdown",
      "source": [
        "#Data Structures"
      ]
    },
    {
      "metadata": {
        "id": "Sl6Glasj0RdF",
        "colab_type": "text"
      },
      "cell_type": "markdown",
      "source": [
        "Data structures are basically just that - they are *structures* which can hold some *data* together. In other words, they are used to store a collection of related data.\n",
        "\n",
        "There are four built-in data structures in Python - _list, tuple, dictionary and set_. We will see how to use each of them and how they make life easier for us.\n",
        "\n",
        "## List\n",
        "\n",
        "A `list` is a data structure that holds an ordered collection of items i.e. you can store a *sequence* of items in a list. This is easy to imagine if you can think of a shopping list where you have a list of items to buy, except that you probably have each item on a separate line in your shopping list whereas in Python you put commas in between them.\n",
        "\n",
        "The list of items should be enclosed in square brackets so that Python understands that you are specifying a list. Once you have created a list, you can add, remove or search for items in the list. Since we can add and remove items, we say that a list is a *mutable* data type i.e. this type can be altered.\n",
        "\n",
        "## Quick Introduction To Objects And Classes\n",
        "\n",
        "Although I've been generally delaying the discussion of objects and classes till now, a little explanation is needed right now so that you can understand lists better. We will explore this topic in detail in a [later chapter](./oop.md#oop).\n",
        "\n",
        "A list is an example of usage of objects and classes. When we use a variable `i` and assign a value to it, say integer `5` to it, you can think of it as creating an *object* (i.e. instance) `i` of *class* (i.e. type) `int`. In fact, you can read `help(int)` to understand this better.\n",
        "\n",
        "A class can also have *methods* i.e. functions defined for use with respect to that class only. You can use these pieces of functionality only when you have an object of that class. For example, Python provides an `append` method for the `list` class which allows you to add an item to the end of the list. For example, `mylist.append('an item')` will add that string to the list `mylist`. Note the use of dotted notation for accessing methods of the objects.\n",
        "\n",
        "A class can also have *fields* which are nothing but variables defined for use with respect to that class only. You can use these variables/names only when you have an object of that class. Fields are also accessed by the dotted notation, for example, `mylist.field`.\n",
        "\n",
        "**Example:**"
      ]
    },
    {
      "metadata": {
        "id": "BeKxmiOs0bSQ",
        "colab_type": "code",
        "colab": {
          "autoexec": {
            "startup": false,
            "wait_interval": 0
          }
        }
      },
      "cell_type": "code",
      "source": [
        "# This is my shopping list\n",
        "shoplist = ['apple', 'mango', 'carrot', 'banana']\n",
        "\n",
        "print('I have', len(shoplist), 'items to purchase.')\n",
        "\n",
        "print('These items are:', end=' ')\n",
        "for item in shoplist:\n",
        "    print(item, end=' ')\n",
        "\n",
        "print('\\nI also have to buy rice.')\n",
        "shoplist.append('rice')\n",
        "print('My shopping list is now', shoplist)\n",
        "\n",
        "print('I will sort my list now')\n",
        "shoplist.sort()\n",
        "print('Sorted shopping list is', shoplist)\n",
        "\n",
        "print('The first item I will buy is', shoplist[0])\n",
        "olditem = shoplist[0]\n",
        "del shoplist[0]\n",
        "print('I bought the', olditem)\n",
        "print('My shopping list is now', shoplist)"
      ],
      "execution_count": 0,
      "outputs": []
    },
    {
      "metadata": {
        "id": "Vnlh9lby0ey0",
        "colab_type": "text"
      },
      "cell_type": "markdown",
      "source": [
        "**How It Works**\n",
        "\n",
        "The variable `shoplist` is a shopping list for someone who is going to the market. In `shoplist`, we only store strings of the names of the items to buy but you can add _any kind of object_ to a list including numbers and even other lists.\n",
        "\n",
        "We have also used the `for..in` loop to iterate through the items of the list. By now, you must have realised that a list is also a sequence. The speciality of sequences will be discussed in a [later section](#sequence).\n",
        "\n",
        "Notice the use of the `end` parameter in the call to `print` function to indicate that we want to end the output with a space instead of the usual line break.\n",
        "\n",
        "Next, we add an item to the list using the `append` method of the list object, as already discussed before. Then, we check that the item has been indeed added to the list by printing the contents of the list by simply passing the list to the `print` function which prints it neatly.\n",
        "\n",
        "Then, we sort the list by using the `sort` method of the list. It is important to understand that this method affects the list itself and does not return a modified list - this is different from the way strings work. This is what we mean by saying that lists are _mutable_ and that strings are _immutable_.\n",
        "\n",
        "Next, when we finish buying an item in the market, we want to remove it from the list. We achieve this by using the `del` statement. Here, we mention which item of the list we want to remove and the `del` statement removes it from the list for us.  We specify that we want to remove the first item from the list and hence we use `del shoplist[0]` (remember that Python starts counting from 0).\n",
        "\n",
        "If you want to know all the methods defined by the list object, see `help(list)` for details.\n",
        "\n",
        "## Tuple\n",
        "\n",
        "Tuples are used to hold together multiple objects. Think of them as similar to lists, but without the extensive functionality that the list class gives you. One major feature of tuples is that they are *immutable* like strings i.e. you cannot modify tuples.\n",
        "\n",
        "Tuples are defined by specifying items separated by commas within an optional pair of parentheses.\n",
        "\n",
        "Tuples are usually used in cases where a statement or a user-defined function can safely assume that the collection of values (i.e. the tuple of values used) will not change.\n",
        "\n",
        "**Example:**\n"
      ]
    },
    {
      "metadata": {
        "id": "gdwxcRtg08ie",
        "colab_type": "code",
        "colab": {
          "autoexec": {
            "startup": false,
            "wait_interval": 0
          },
          "base_uri": "https://localhost:8080/",
          "height": 121
        },
        "outputId": "10e8c1a3-fd71-4124-e39d-772a6539ba8e",
        "executionInfo": {
          "status": "ok",
          "timestamp": 1519006291329,
          "user_tz": -345,
          "elapsed": 1248,
          "user": {
            "displayName": "Jonathan Brewer",
            "photoUrl": "//lh6.googleusercontent.com/-JjOd_rVUQeM/AAAAAAAAAAI/AAAAAAAAATQ/xtlbjp_YgpI/s50-c-k-no/photo.jpg",
            "userId": "105795496123773328152"
          }
        }
      },
      "cell_type": "code",
      "source": [
        "# I would recommend always using parentheses\n",
        "# to indicate start and end of tuple\n",
        "# even though parentheses are optional.\n",
        "# Explicit is better than implicit.\n",
        "zoo = ('python', 'elephant', 'penguin')\n",
        "print('Number of animals in the zoo is', len(zoo))\n",
        "\n",
        "new_zoo = 'monkey', 'camel', zoo    # parentheses not required but are a good idea\n",
        "print('Number of cages in the new zoo is', len(new_zoo))\n",
        "print('All animals in new zoo are', new_zoo)\n",
        "print('Animals brought from old zoo are', new_zoo[2])\n",
        "print('Last animal brought from old zoo is', new_zoo[2][2])\n",
        "print('Number of animals in the new zoo is',\n",
        "      len(new_zoo)-1+len(new_zoo[2]))"
      ],
      "execution_count": 0,
      "outputs": [
        {
          "output_type": "stream",
          "text": [
            "Number of animals in the zoo is 3\n",
            "Number of cages in the new zoo is 3\n",
            "All animals in new zoo are ('monkey', 'camel', ('python', 'elephant', 'penguin'))\n",
            "Animals brought from old zoo are ('python', 'elephant', 'penguin')\n",
            "Last animal brought from old zoo is penguin\n",
            "Number of animals in the new zoo is 5\n"
          ],
          "name": "stdout"
        }
      ]
    },
    {
      "metadata": {
        "id": "d9dYRQY3091B",
        "colab_type": "text"
      },
      "cell_type": "markdown",
      "source": [
        "\n",
        "**How It Works**\n",
        "\n",
        "The variable `zoo` refers to a tuple of items. We see that the `len` function can be used to get the length of the tuple. This also indicates that a tuple is a [sequence](#sequence) as well.\n",
        "\n",
        "We are now shifting these animals to a new zoo since the old zoo is being closed. Therefore, the `new_zoo` tuple contains some animals which are already there along with the animals brought over from the old zoo. Back to reality, note that a tuple within a tuple does not lose its identity.\n",
        "\n",
        "We can access the items in the tuple by specifying the item's position within a pair of square brackets just like we did for lists. This is called the _indexing_ operator. We access the third item in `new_zoo` by specifying `new_zoo[2]` and we access the third item within the third item in the `new_zoo` tuple by specifying `new_zoo[2][2]`. This is pretty simple once you've understood the idiom.\n",
        "\n",
        "> **Tuple with 0 or 1 items**\n",
        "> \n",
        "> An empty tuple is constructed by an empty pair of parentheses such as `myempty = ()`. However, a tuple with a single item is not so simple. You have to specify it using a comma following the first (and only) item so that Python can differentiate between a tuple and a pair of parentheses surrounding the object in an expression i.e. you have to specify `singleton = (2 , )` if you mean you want a tuple containing the item `2`.\n",
        "\n",
        "<!-- -->\n",
        "\n",
        "> **Note for Perl programmers**\n",
        "> \n",
        "> A list within a list does not lose its identity i.e. lists are not flattened as in Perl. The same applies to a tuple within a tuple, or a tuple within a list, or a list within a tuple, etc. As far as Python is concerned, they are just objects stored using another object, that's all.\n",
        "\n",
        "## Dictionary\n",
        "\n",
        "A dictionary is like an address-book where you can find the address or contact details of a person by knowing only his/her name i.e. we associate *keys* (name) with *values* (details). Note that the key must be unique just like you cannot find out the correct information if you have two persons with the exact same name.\n",
        "\n",
        "Note that you can use only immutable objects (like strings) for the keys of a dictionary but you can use either immutable or mutable objects for the values of the dictionary.  This basically translates to say that you should use only simple objects for keys.\n",
        "\n",
        "Pairs of keys and values are specified in a dictionary by using the notation `d = {key1 : value1, key2 : value2 }`. Notice that the key-value pairs are separated by a colon and the pairs are separated themselves by commas and all this is enclosed in a pair of curly braces.\n",
        "\n",
        "Remember that key-value pairs in a dictionary are not ordered in any manner. If you want a particular order, then you will have to sort them yourself before using it.\n",
        "\n",
        "The dictionaries that you will be using are instances/objects of the `dict` class.\n",
        "\n",
        "**Example**\n"
      ]
    },
    {
      "metadata": {
        "id": "SiJi0Mvx2Kxm",
        "colab_type": "code",
        "colab": {
          "autoexec": {
            "startup": false,
            "wait_interval": 0
          }
        }
      },
      "cell_type": "code",
      "source": [
        "# 'ab' is short for 'a'ddress'b'ook\n",
        "\n",
        "ab = {\n",
        "    'Swaroop': 'swaroop@swaroopch.com',\n",
        "    'Larry': 'larry@wall.org',\n",
        "    'Matsumoto': 'matz@ruby-lang.org',\n",
        "    'Spammer': 'spammer@hotmail.com'\n",
        "}\n",
        "\n",
        "print(\"Swaroop's address is\", ab['Swaroop'])\n",
        "\n",
        "# Deleting a key-value pair\n",
        "del ab['Spammer']\n",
        "\n",
        "print('\\nThere are {} contacts in the address-book\\n'.format(len(ab)))\n",
        "\n",
        "for name, address in ab.items():\n",
        "    print('Contact {} at {}'.format(name, address))\n",
        "\n",
        "# Adding a key-value pair\n",
        "ab['Guido'] = 'guido@python.org'\n",
        "\n",
        "if 'Guido' in ab:\n",
        "    print(\"\\nGuido's address is\", ab['Guido'])"
      ],
      "execution_count": 0,
      "outputs": []
    },
    {
      "metadata": {
        "id": "vUu07VBx2MF0",
        "colab_type": "text"
      },
      "cell_type": "markdown",
      "source": [
        "**How It Works**\n",
        "\n",
        "We create the dictionary `ab` using the notation already discussed. We then access key-value pairs by specifying the key using the indexing operator as discussed in the context of lists and tuples. Observe the simple syntax.\n",
        "\n",
        "We can delete key-value pairs using our old friend - the `del` statement. We simply specify the dictionary and the indexing operator for the key to be removed and pass it to the `del` statement. There is no need to know the value corresponding to the key for this operation.\n",
        "\n",
        "Next, we access each key-value pair of the dictionary using the `items` method of the dictionary which returns a list of tuples where each tuple contains a pair of items - the key followed by the value. We retrieve this pair and assign it to the variables `name` and `address` correspondingly for each pair using the `for..in` loop and then print these values in the for-block.\n",
        "\n",
        "We can add new key-value pairs by simply using the indexing operator to access a key and assign that value, as we have done for Guido in the above case.\n",
        "\n",
        "We can check if a key-value pair exists using the `in` operator.\n",
        "\n",
        "For the list of methods of the `dict` class, see `help(dict)`.\n",
        "\n",
        "> **Keyword Arguments and Dictionaries**\n",
        "> \n",
        "> If you have used keyword arguments in your functions, you have already used dictionaries! Just think about it - the key-value pair is specified by you in the parameter list of the function definition and when you access variables within your function, it is just a key access of a dictionary (which is called the _symbol table_ in compiler design terminology).\n",
        "\n",
        "## Sequence\n",
        "\n",
        "Lists, tuples and strings are examples of sequences, but what are sequences and what is so special about them?\n",
        "\n",
        "The major features are *membership tests*, (i.e. the `in` and `not in` expressions) and *indexing operations*, which allow us to fetch a particular item in the sequence directly.\n",
        "\n",
        "The three types of sequences mentioned above - lists, tuples and strings, also have a *slicing* operation which allows us to retrieve a slice of the sequence i.e. a part of the sequence.\n",
        "\n",
        "**Example:**\n"
      ]
    },
    {
      "metadata": {
        "id": "R4c82q9L2eqi",
        "colab_type": "code",
        "colab": {
          "autoexec": {
            "startup": false,
            "wait_interval": 0
          }
        }
      },
      "cell_type": "code",
      "source": [
        "shoplist = ['apple', 'mango', 'carrot', 'banana']\n",
        "name = 'swaroop'\n",
        "\n",
        "# Indexing or 'Subscription' operation #\n",
        "print('Item 0 is', shoplist[0])\n",
        "print('Item 1 is', shoplist[1])\n",
        "print('Item 2 is', shoplist[2])\n",
        "print('Item 3 is', shoplist[3])\n",
        "print('Item -1 is', shoplist[-1])\n",
        "print('Item -2 is', shoplist[-2])\n",
        "print('Character 0 is', name[0])\n",
        "\n",
        "# Slicing on a list #\n",
        "print('Item 1 to 3 is', shoplist[1:3])\n",
        "print('Item 2 to end is', shoplist[2:])\n",
        "print('Item 1 to -1 is', shoplist[1:-1])\n",
        "print('Item start to end is', shoplist[:])\n",
        "\n",
        "# Slicing on a string #\n",
        "print('characters 1 to 3 is', name[1:3])\n",
        "print('characters 2 to end is', name[2:])\n",
        "print('characters 1 to -1 is', name[1:-1])\n",
        "print('characters start to end is', name[:])"
      ],
      "execution_count": 0,
      "outputs": []
    },
    {
      "metadata": {
        "id": "YOQkW3VQ2gMU",
        "colab_type": "text"
      },
      "cell_type": "markdown",
      "source": [
        "**How It Works**\n",
        "\n",
        "First, we see how to use indexes to get individual items of a sequence. This is also referred to as the _subscription operation_. Whenever you specify a number to a sequence within square brackets as shown above, Python will fetch you the item corresponding to that position in the sequence. Remember that Python starts counting numbers from 0. Hence, `shoplist[0]` fetches the first item and `shoplist[3]` fetches the fourth item in the `shoplist`sequence.\n",
        "\n",
        "The index can also be a negative number, in which case, the position is calculated from the end of the sequence. Therefore, `shoplist[-1]` refers to the last item in the sequence and `shoplist[-2]` fetches the second last item in the sequence.\n",
        "\n",
        "The slicing operation is used by specifying the name of the sequence followed by an optional pair of numbers separated by a colon within square brackets. Note that this is very similar to the indexing operation you have been using till now. Remember the numbers are optional but the colon isn't.\n",
        "\n",
        "The first number (before the colon) in the slicing operation refers to the position from where the slice starts and the second number (after the colon) indicates where the slice will stop at. If the first number is not specified, Python will start at the beginning of the sequence. If the second number is left out, Python will stop at the end of the sequence. Note that the slice returned _starts_ at the start position and will end just before the _end_ position i.e. the start position is included but the end position is excluded from the sequence slice.\n",
        "\n",
        "Thus, `shoplist[1:3]` returns a slice of the sequence starting at position 1, includes position 2 but stops at position 3 and therefore a *slice* of two items is returned.  Similarly, `shoplist[:]` returns a copy of the whole sequence.\n",
        "\n",
        "You can also do slicing with negative positions. Negative numbers are used for positions from the end of the sequence. For example, `shoplist[:-1]` will return a slice of the sequence which excludes the last item of the sequence but contains everything else.\n",
        "\n",
        "You can also provide a third argument for the slice, which is the _step_ for the slicing (by default, the step size is 1):\n",
        "\n",
        "```python\n",
        ">>> shoplist = ['apple', 'mango', 'carrot', 'banana']\n",
        ">>> shoplist[::1]\n",
        "['apple', 'mango', 'carrot', 'banana']\n",
        ">>> shoplist[::2]\n",
        "['apple', 'carrot']\n",
        ">>> shoplist[::3]\n",
        "['apple', 'banana']\n",
        ">>> shoplist[::-1]\n",
        "['banana', 'carrot', 'mango', 'apple']\n",
        "```\n",
        "\n",
        "Notice that when the step is 2, we get the items with position 0, 2,... When the step size is 3, we get the items with position 0, 3, etc.\n",
        "\n",
        "Try various combinations of such slice specifications using the Python interpreter interactively i.e. the prompt so that you can see the results immediately. The great thing about sequences is that you can access tuples, lists and strings all in the same way!\n",
        "\n",
        "## Set\n",
        "\n",
        "Sets are _unordered_ collections of simple objects. These are used when the existence of an object in a collection is more important than the order or how many times it occurs.\n",
        "\n",
        "Using sets, you can test for membership, whether it is a subset of another set, find the intersection between two sets, and so on.\n",
        "\n",
        "```python\n",
        ">>> bri = set(['brazil', 'russia', 'india'])\n",
        ">>> 'india' in bri\n",
        "True\n",
        ">>> 'usa' in bri\n",
        "False\n",
        ">>> bric = bri.copy()\n",
        ">>> bric.add('china')\n",
        ">>> bric.issuperset(bri)\n",
        "True\n",
        ">>> bri.remove('russia')\n",
        ">>> bri & bric # OR bri.intersection(bric)\n",
        "{'brazil', 'india'}\n",
        "```\n",
        "\n",
        "**How It Works**\n",
        "\n",
        "If you remember basic set theory mathematics from school, then this example is fairly self-explanatory.  But if not, you can google \"set theory\" and \"Venn diagram\" to better understand our use of sets in Python.\n",
        "\n",
        "## References\n",
        "\n",
        "When you create an object and assign it to a variable, the variable only _refers_ to the object and does not represent the object itself!  That is, the variable name points to that part of your computer's memory where the object is stored. This is called *binding* the name to the object.\n",
        "\n",
        "Generally, you don't need to be worried about this, but there is a subtle effect due to references which you need to be aware of:\n",
        "\n",
        "**Example:**\n"
      ]
    },
    {
      "metadata": {
        "id": "neHxjIdH23CN",
        "colab_type": "code",
        "colab": {
          "autoexec": {
            "startup": false,
            "wait_interval": 0
          }
        }
      },
      "cell_type": "code",
      "source": [
        "print('Simple Assignment')\n",
        "shoplist = ['apple', 'mango', 'carrot', 'banana']\n",
        "# mylist is just another name pointing to the same object!\n",
        "mylist = shoplist\n",
        "\n",
        "# I purchased the first item, so I remove it from the list\n",
        "del shoplist[0]\n",
        "\n",
        "print('shoplist is', shoplist)\n",
        "print('mylist is', mylist)\n",
        "# Notice that both shoplist and mylist both print\n",
        "# the same list without the 'apple' confirming that\n",
        "# they point to the same object\n",
        "\n",
        "print('Copy by making a full slice')\n",
        "# Make a copy by doing a full slice\n",
        "mylist = shoplist[:]\n",
        "# Remove first item\n",
        "del mylist[0]\n",
        "\n",
        "print('shoplist is', shoplist)\n",
        "print('mylist is', mylist)\n",
        "# Notice that now the two lists are different"
      ],
      "execution_count": 0,
      "outputs": []
    },
    {
      "metadata": {
        "id": "iGAXqpcX243g",
        "colab_type": "text"
      },
      "cell_type": "markdown",
      "source": [
        "**How It Works**\n",
        "\n",
        "Most of the explanation is available in the comments.\n",
        "\n",
        "Remember that if you want to make a copy of a list or such kinds of sequences or complex objects (not simple _objects_ such as integers), then you have to use the slicing operation to make a copy. If you just assign the variable name to another name, both of them will ''refer'' to the same object and this could be trouble if you are not careful.\n",
        "\n",
        "> **Note for Perl programmers**\n",
        "> \n",
        "> Remember that an assignment statement for lists does **not** create a copy. You have to use slicing operation to make a copy of the sequence.\n",
        "\n"
      ]
    }
  ]
}